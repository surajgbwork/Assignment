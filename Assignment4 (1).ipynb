{
 "cells": [
  {
   "cell_type": "code",
   "execution_count": 1,
   "id": "87d23819-ec27-4c42-8300-f3b9ee64c37b",
   "metadata": {},
   "outputs": [
    {
     "name": "stdout",
     "output_type": "stream",
     "text": [
      "===== Chi-Square Test Report =====\n",
      "Contingency Table:\n",
      "                  Very Satisfied  Satisfied  Neutral  Unsatisfied  \\\n",
      "Smart Thermostat              50         80       60           30   \n",
      "Smart Light                   70        100       90           50   \n",
      "\n",
      "                  Very Unsatisfied  \n",
      "Smart Thermostat                20  \n",
      "Smart Light                     50  \n",
      "\n",
      "Expected Frequencies:\n",
      "                  Very Satisfied  Satisfied  Neutral  Unsatisfied  \\\n",
      "Smart Thermostat            48.0       72.0     60.0         32.0   \n",
      "Smart Light                 72.0      108.0     90.0         48.0   \n",
      "\n",
      "                  Very Unsatisfied  \n",
      "Smart Thermostat              28.0  \n",
      "Smart Light                   42.0  \n",
      "\n",
      "Chi-Square Statistic: 5.638227513227513\n",
      "Degrees of Freedom: 4\n",
      "P-Value: 0.22784371130697179\n",
      "Critical Value (α=0.05): 9.487729036781154\n",
      "Decision: Fail to Reject Null Hypothesis\n",
      "Conclusion: There is no significant association between device type and customer satisfaction.\n"
     ]
    }
   ],
   "source": [
    "# Chi-Square Test Report in Jupyter Notebook\n",
    "\n",
    "# Step 1: Import Libraries\n",
    "import pandas as pd\n",
    "import numpy as np\n",
    "from scipy.stats import chi2_contingency, chi2\n",
    "\n",
    "# Step 2: Create Contingency Table\n",
    "# Data Provided\n",
    "\n",
    "data = {\n",
    "    \"Very Satisfied\": [50, 70],\n",
    "    \"Satisfied\": [80, 100],\n",
    "    \"Neutral\": [60, 90],\n",
    "    \"Unsatisfied\": [30, 50],\n",
    "    \"Very Unsatisfied\": [20, 50]\n",
    "}\n",
    "\n",
    "# Convert into DataFrame for better visualization\n",
    "df = pd.DataFrame(data, index=[\"Smart Thermostat\", \"Smart Light\"])\n",
    "df\n",
    "\n",
    "# Step 3: State the Hypotheses\n",
    "# H0 (Null Hypothesis): There is no significant association between device type and customer satisfaction.\n",
    "# H1 (Alternative Hypothesis): There is a significant association between device type and customer satisfaction.\n",
    "\n",
    "# Step 4: Perform Chi-Square Test\n",
    "chi2_stat, p_val, dof, expected = chi2_contingency(df)\n",
    "\n",
    "# Step 5: Determine Critical Value at α = 0.05\n",
    "alpha = 0.05\n",
    "critical_value = chi2.ppf(q=1-alpha, df=dof)\n",
    "\n",
    "# Step 6: Decision Rule\n",
    "decision = \"Reject Null Hypothesis\" if chi2_stat > critical_value else \"Fail to Reject Null Hypothesis\"\n",
    "\n",
    "# Step 7: Display Results\n",
    "print(\"===== Chi-Square Test Report =====\")\n",
    "print(\"Contingency Table:\")\n",
    "print(df)\n",
    "print(\"\\nExpected Frequencies:\")\n",
    "print(pd.DataFrame(expected, index=df.index, columns=df.columns))\n",
    "print(\"\\nChi-Square Statistic:\", chi2_stat)\n",
    "print(\"Degrees of Freedom:\", dof)\n",
    "print(\"P-Value:\", p_val)\n",
    "print(\"Critical Value (α=0.05):\", critical_value)\n",
    "print(\"Decision:\", decision)\n",
    "\n",
    "# Conclusion\n",
    "if decision == \"Reject Null Hypothesis\":\n",
    "    print(\"Conclusion: There is a significant association between device type and customer satisfaction.\")\n",
    "else:\n",
    "    print(\"Conclusion: There is no significant association between device type and customer satisfaction.\")\n"
   ]
  },
  {
   "cell_type": "code",
   "execution_count": null,
   "id": "6fe2e8ab-fb65-44b3-af9b-8dd35fe6f3dc",
   "metadata": {},
   "outputs": [],
   "source": []
  }
 ],
 "metadata": {
  "kernelspec": {
   "display_name": "Python 3 (ipykernel)",
   "language": "python",
   "name": "python3"
  },
  "language_info": {
   "codemirror_mode": {
    "name": "ipython",
    "version": 3
   },
   "file_extension": ".py",
   "mimetype": "text/x-python",
   "name": "python",
   "nbconvert_exporter": "python",
   "pygments_lexer": "ipython3",
   "version": "3.13.5"
  }
 },
 "nbformat": 4,
 "nbformat_minor": 5
}
