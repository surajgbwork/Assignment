{
 "cells": [
  {
   "cell_type": "code",
   "execution_count": 1,
   "id": "b6df5e1a-de27-47c9-a0d6-c5fe5899d545",
   "metadata": {},
   "outputs": [
    {
     "data": {
      "text/plain": [
       "(15, 1.2386666666666666, 0.19316412956959936)"
      ]
     },
     "execution_count": 1,
     "metadata": {},
     "output_type": "execute_result"
    }
   ],
   "source": [
    "import math\n",
    "import numpy as np\n",
    "\n",
    "# Try to import SciPy for critical values; provide safe fallbacks if unavailable\n",
    "try:\n",
    "    from scipy import stats\n",
    "    SCIPY_AVAILABLE = True\n",
    "except Exception:\n",
    "    SCIPY_AVAILABLE = False\n",
    "\n",
    "# Data (in millions of characters)\n",
    "data = [1.13, 1.55, 1.43, 0.92, 1.25, 1.36, 1.32, 0.85, 1.07, 1.48, 1.20, 1.33, 1.18, 1.22, 1.29]\n",
    "\n",
    "# Basic sample statistics\n",
    "n = len(data)\n",
    "xbar = float(np.mean(data))\n",
    "s = float(np.std(data, ddof=1))  # sample standard deviation (ddof=1)\n",
    "\n",
    "n, xbar, s"
   ]
  },
  {
   "cell_type": "code",
   "execution_count": 2,
   "id": "1cfdd010-3150-4f3a-a8ae-23890fe4e1ee",
   "metadata": {},
   "outputs": [
    {
     "name": "stdout",
     "output_type": "stream",
     "text": [
      "Sample size (n): 15\n",
      "Degrees of freedom (df): 14\n",
      "Sample mean (x̄): 1.23867\n",
      "Sample std (s): 0.19316\n",
      "Standard error (s/√n): 0.04987\n",
      "t critical (99%, df=14): 2.9768\n",
      "99% t-interval: [1.09020, 1.38714] (millions of characters)\n"
     ]
    }
   ],
   "source": [
    "alpha = 0.01\n",
    "df = n - 1\n",
    "se_t = s / math.sqrt(n)\n",
    "\n",
    "# Critical value\n",
    "if SCIPY_AVAILABLE:\n",
    "    t_crit = float(stats.t.ppf(1 - alpha/2, df))\n",
    "else:\n",
    "    # Fallback for df=14 and 99% CI (two-sided): t_{0.995,14} ≈ 2.9768\n",
    "    # If you change the data/df, install SciPy for exact quantiles.\n",
    "    t_crit = 2.9768\n",
    "\n",
    "margin_t = t_crit * se_t\n",
    "ci_t_lower = xbar - margin_t\n",
    "ci_t_upper = xbar + margin_t\n",
    "\n",
    "print(\"Sample size (n):\", n)\n",
    "print(\"Degrees of freedom (df):\", df)\n",
    "print(f\"Sample mean (x̄): {xbar:.5f}\")\n",
    "print(f\"Sample std (s): {s:.5f}\")\n",
    "print(f\"Standard error (s/√n): {se_t:.5f}\")\n",
    "print(f\"t critical (99%, df={df}): {t_crit:.4f}\")\n",
    "print(f\"99% t-interval: [{ci_t_lower:.5f}, {ci_t_upper:.5f}] (millions of characters)\")"
   ]
  },
  {
   "cell_type": "code",
   "execution_count": 3,
   "id": "a6d687c6-9c59-4a89-85bb-1b8f7d1acca5",
   "metadata": {},
   "outputs": [
    {
     "name": "stdout",
     "output_type": "stream",
     "text": [
      "Known σ: 0.200\n",
      "Standard error (σ/√n): 0.05164\n",
      "z critical (99%): 2.5758\n",
      "99% z-interval: [1.10565, 1.37168] (millions of characters)\n"
     ]
    }
   ],
   "source": [
    "sigma = 0.2  # population standard deviation (given)\n",
    "se_z = sigma / math.sqrt(n)\n",
    "\n",
    "# Critical value\n",
    "if SCIPY_AVAILABLE:\n",
    "    z_crit = float(stats.norm.ppf(1 - alpha/2))\n",
    "else:\n",
    "    # Fallback for 99% CI (two-sided): z_{0.995} ≈ 2.5758\n",
    "    z_crit = 2.5758\n",
    "\n",
    "margin_z = z_crit * se_z\n",
    "ci_z_lower = xbar - margin_z\n",
    "ci_z_upper = xbar + margin_z\n",
    "\n",
    "print(f\"Known σ: {sigma:.3f}\")\n",
    "print(f\"Standard error (σ/√n): {se_z:.5f}\")\n",
    "print(f\"z critical (99%): {z_crit:.4f}\")\n",
    "print(f\"99% z-interval: [{ci_z_lower:.5f}, {ci_z_upper:.5f}] (millions of characters)\")"
   ]
  },
  {
   "cell_type": "code",
   "execution_count": null,
   "id": "4a1bcdd4-5539-4eeb-be27-700c83ac7d53",
   "metadata": {},
   "outputs": [],
   "source": []
  }
 ],
 "metadata": {
  "kernelspec": {
   "display_name": "Python 3 (ipykernel)",
   "language": "python",
   "name": "python3"
  },
  "language_info": {
   "codemirror_mode": {
    "name": "ipython",
    "version": 3
   },
   "file_extension": ".py",
   "mimetype": "text/x-python",
   "name": "python",
   "nbconvert_exporter": "python",
   "pygments_lexer": "ipython3",
   "version": "3.13.5"
  }
 },
 "nbformat": 4,
 "nbformat_minor": 5
}
