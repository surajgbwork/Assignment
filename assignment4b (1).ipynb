{
 "cells": [
  {
   "cell_type": "code",
   "execution_count": 2,
   "id": "518125fd-c5e1-4d3b-b5f6-62e3ff2e2d5c",
   "metadata": {},
   "outputs": [
    {
     "name": "stdout",
     "output_type": "stream",
     "text": [
      "===== Hypothesis Testing Report =====\n",
      "Sample Mean: 3050\n",
      "Theoretical Mean: 4000\n",
      "Standard Deviation (σ): 125\n",
      "Sample Size (n): 25\n",
      "Standard Error: 25.0\n",
      "Z-Statistic: -38.0\n",
      "Critical Value (α=0.05): 1.6448536269514722\n",
      "Decision: Fail to Reject Null Hypothesis\n",
      "Conclusion: There is not enough evidence to conclude that the weekly operating costs are higher than the theoretical model predicts.\n"
     ]
    }
   ],
   "source": [
    "\n",
    "\n",
    "\n",
    "import math\n",
    "from scipy.stats import norm\n",
    "\n",
    "sample_mean = 3050                \n",
    "X_mean = 600                      # Average units produced per week\n",
    "sigma_x = 25                      #  \n",
    "n = 25                            \n",
    "\n",
    "# Theoretical mean according to model: W = 1000 + 5X\n",
    "theoretical_mean = 1000 + 5 * X_mean\n",
    "\n",
    "# Standard deviation of weekly cost = 5 * σ_x\n",
    "sigma = 5 * sigma_x\n",
    "\n",
    "se = sigma / math.sqrt(n)\n",
    "\n",
    "z_stat = (sample_mean - theoretical_mean) / se\n",
    "\n",
    "\n",
    "alpha = 0.05\n",
    "critical_value = norm.ppf(1 - alpha)\n",
    "\n",
    "\n",
    "decision = \"Reject Null Hypothesis\" if z_stat > critical_value else \"Fail to Reject Null Hypothesis\"\n",
    "\n",
    "\n",
    "print(\"===== Hypothesis Testing Report =====\")\n",
    "print(\"Sample Mean:\", sample_mean)\n",
    "print(\"Theoretical Mean:\", theoretical_mean)\n",
    "print(\"Standard Deviation (σ):\", sigma)\n",
    "print(\"Sample Size (n):\", n)\n",
    "print(\"Standard Error:\", se)\n",
    "print(\"Z-Statistic:\", z_stat)\n",
    "print(\"Critical Value (α=0.05):\", critical_value)\n",
    "print(\"Decision:\", decision)\n",
    "\n",
    "\n",
    "if decision == \"Reject Null Hypothesis\":\n",
    "    print(\"Conclusion: There is strong evidence that the weekly operating costs are higher than the theoretical model predicts.\")\n",
    "else:\n",
    "    print(\"Conclusion: There is not enough evidence to conclude that the weekly operating costs are higher than the theoretical model predicts.\")"
   ]
  },
  {
   "cell_type": "code",
   "execution_count": null,
   "id": "0d50c695-15d0-4188-aa0c-8fc132a35174",
   "metadata": {},
   "outputs": [],
   "source": []
  }
 ],
 "metadata": {
  "kernelspec": {
   "display_name": "Python 3 (ipykernel)",
   "language": "python",
   "name": "python3"
  },
  "language_info": {
   "codemirror_mode": {
    "name": "ipython",
    "version": 3
   },
   "file_extension": ".py",
   "mimetype": "text/x-python",
   "name": "python",
   "nbconvert_exporter": "python",
   "pygments_lexer": "ipython3",
   "version": "3.13.5"
  }
 },
 "nbformat": 4,
 "nbformat_minor": 5
}
