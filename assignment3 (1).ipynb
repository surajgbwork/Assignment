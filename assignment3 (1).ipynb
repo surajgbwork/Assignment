{
 "cells": [
  {
   "cell_type": "code",
   "execution_count": 2,
   "id": "6ba49a70-b9ee-4ae6-b96c-f12c720968ec",
   "metadata": {},
   "outputs": [
    {
     "name": "stdout",
     "output_type": "stream",
     "text": [
      "Is 29 prime? True\n"
     ]
    }
   ],
   "source": [
    "\n",
    "\n",
    "def is_prime(n):\n",
    "    \n",
    "    if n <= 1:\n",
    "        return False\n",
    "    for i in range(2, int(n**0.5) + 1):\n",
    "        if n % i == 0:\n",
    "            return False\n",
    "    return True\n",
    "\n",
    "# Example check\n",
    "num = 29\n",
    "print(f\"Is {num} prime?\", is_prime(num))\n"
   ]
  },
  {
   "cell_type": "code",
   "execution_count": 4,
   "id": "d11c4f30-90b9-469d-aae4-7c7580edd54d",
   "metadata": {},
   "outputs": [
    {
     "name": "stdout",
     "output_type": "stream",
     "text": [
      "Random numbers: 3 8\n",
      "Correct\n"
     ]
    }
   ],
   "source": [
    "import random\n",
    "\n",
    "# Generate two random numbers\n",
    "a = random.randint(1, 10)\n",
    "b = random.randint(1, 10)\n",
    "\n",
    "print(\"Random numbers:\", a, b)\n",
    "\n",
    "# Ask user to enter the product\n",
    "# (In Jupyter, uncomment the input line to test interactively)\n",
    "# user_answer = int(input(f\"What is the product of {a} and {b}? \"))\n",
    "\n",
    "# For demonstration, simulate an answer\n",
    "user_answer = a * b  \n",
    "\n",
    "if user_answer == a * b:\n",
    "    print(\"Correct\") \n",
    "else:\n",
    "    print(\"Incorrect , The correct answer is\", a * b)\n"
   ]
  },
  {
   "cell_type": "code",
   "execution_count": 5,
   "id": "f7aa0a9a-5b9e-4ffd-91c0-8de1c8dbb22d",
   "metadata": {},
   "outputs": [
    {
     "name": "stdout",
     "output_type": "stream",
     "text": [
      "Squares of even numbers between 100 and 200:\n",
      "100^2 = 10000\n",
      "102^2 = 10404\n",
      "104^2 = 10816\n",
      "106^2 = 11236\n",
      "108^2 = 11664\n",
      "110^2 = 12100\n",
      "112^2 = 12544\n",
      "114^2 = 12996\n",
      "116^2 = 13456\n",
      "118^2 = 13924\n",
      "120^2 = 14400\n",
      "122^2 = 14884\n",
      "124^2 = 15376\n",
      "126^2 = 15876\n",
      "128^2 = 16384\n",
      "130^2 = 16900\n",
      "132^2 = 17424\n",
      "134^2 = 17956\n",
      "136^2 = 18496\n",
      "138^2 = 19044\n",
      "140^2 = 19600\n",
      "142^2 = 20164\n",
      "144^2 = 20736\n",
      "146^2 = 21316\n",
      "148^2 = 21904\n",
      "150^2 = 22500\n",
      "152^2 = 23104\n",
      "154^2 = 23716\n",
      "156^2 = 24336\n",
      "158^2 = 24964\n",
      "160^2 = 25600\n",
      "162^2 = 26244\n",
      "164^2 = 26896\n",
      "166^2 = 27556\n",
      "168^2 = 28224\n",
      "170^2 = 28900\n",
      "172^2 = 29584\n",
      "174^2 = 30276\n",
      "176^2 = 30976\n",
      "178^2 = 31684\n",
      "180^2 = 32400\n",
      "182^2 = 33124\n",
      "184^2 = 33856\n",
      "186^2 = 34596\n",
      "188^2 = 35344\n",
      "190^2 = 36100\n",
      "192^2 = 36864\n",
      "194^2 = 37636\n",
      "196^2 = 38416\n",
      "198^2 = 39204\n",
      "200^2 = 40000\n"
     ]
    }
   ],
   "source": [
    "# Squares of even numbers in range 100 to 200\n",
    "# (Change 'range(100, 201, 2)' to 'range(101, 200, 2)' for odd numbers)\n",
    "\n",
    "print(\"Squares of even numbers between 100 and 200:\")\n",
    "for i in range(100, 201, 2):\n",
    "    print(f\"{i}^2 = {i**2}\")\n"
   ]
  },
  {
   "cell_type": "code",
   "execution_count": 6,
   "id": "84b466fa-965a-4b27-bc81-0fa0ad794c79",
   "metadata": {},
   "outputs": [
    {
     "name": "stdout",
     "output_type": "stream",
     "text": [
      "Word Count:\n",
      "'this': 2\n",
      "'is': 1\n",
      "'a': 1\n",
      "'sample': 1\n",
      "'text.': 1\n",
      "'text': 1\n",
      "'will': 1\n",
      "'be': 1\n",
      "'used': 1\n",
      "'to': 1\n",
      "'demonstrate': 1\n",
      "'the': 1\n",
      "'word': 1\n",
      "'counter.': 1\n"
     ]
    }
   ],
   "source": [
    "def word_counter(text):\n",
    "    words = text.split()\n",
    "    count_dict = {}\n",
    "    for word in words:\n",
    "        word = word.strip().lower()  # normalize to lowercase\n",
    "        count_dict[word] = count_dict.get(word, 0) + 1\n",
    "    return count_dict\n",
    "input_text = \"This is a sample text. This text will be used to demonstrate the word counter.\"\n",
    "result = word_counter(input_text)\n",
    "print(\"Word Count:\")\n",
    "for word, count in result.items():\n",
    "    print(f\"'{word}': {count}\")"
   ]
  },
  {
   "cell_type": "code",
   "execution_count": 7,
   "id": "1f7056fd-fe12-46e0-b195-fb2dbbc186bf",
   "metadata": {},
   "outputs": [
    {
     "name": "stdout",
     "output_type": "stream",
     "text": [
      "True\n",
      "True\n",
      "False\n"
     ]
    }
   ],
   "source": [
    "def is_palindrome(s):\n",
    "    \n",
    "    cleaned = ''.join(ch.lower() for ch in s if ch.isalnum())\n",
    "    return cleaned == cleaned[::-1]\n",
    "\n",
    "# Example tests\n",
    "print(is_palindrome(\"racecar\"))   \n",
    "print(is_palindrome(\"Madam\"))     \n",
    "print(is_palindrome(\"Hello\"))     "
   ]
  },
  {
   "cell_type": "code",
   "execution_count": null,
   "id": "58031ecc-cdd0-4c34-b986-7b600009ede1",
   "metadata": {},
   "outputs": [],
   "source": []
  }
 ],
 "metadata": {
  "kernelspec": {
   "display_name": "Python 3 (ipykernel)",
   "language": "python",
   "name": "python3"
  },
  "language_info": {
   "codemirror_mode": {
    "name": "ipython",
    "version": 3
   },
   "file_extension": ".py",
   "mimetype": "text/x-python",
   "name": "python",
   "nbconvert_exporter": "python",
   "pygments_lexer": "ipython3",
   "version": "3.13.5"
  }
 },
 "nbformat": 4,
 "nbformat_minor": 5
}
